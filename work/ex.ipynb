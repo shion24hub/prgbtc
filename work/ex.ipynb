{
 "cells": [
  {
   "cell_type": "code",
   "execution_count": 1,
   "metadata": {},
   "outputs": [
    {
     "name": "stdout",
     "output_type": "stream",
     "text": [
      "k = 1 : {0, 1, 2, 3, 4, 5, 6, 7, 8, 9, 10, 11, 12, 13, 14, 15, 16, 17, 18}\n",
      "k = 3 : {0, 1, 2, 3, 4, 5, 6, 7, 8, 9, 10, 11, 12, 13, 14, 15, 16, 17, 18}\n",
      "k = 7 : {0, 1, 2, 3, 4, 5, 6, 7, 8, 9, 10, 11, 12, 13, 14, 15, 16, 17, 18}\n",
      "k = 13 : {0, 1, 2, 3, 4, 5, 6, 7, 8, 9, 10, 11, 12, 13, 14, 15, 16, 17, 18}\n",
      "k = 18 : {0, 1, 2, 3, 4, 5, 6, 7, 8, 9, 10, 11, 12, 13, 14, 15, 16, 17, 18}\n"
     ]
    }
   ],
   "source": [
    "# F_19上\n",
    "prime = 19\n",
    "ks = [1, 3, 7, 13, 18]\n",
    "for k in ks:\n",
    "    ans = []\n",
    "    for i in range(prime):\n",
    "        ans.append((k * i) % prime)\n",
    "    ans = set(ans)\n",
    "    print(\"k = {} : {}\".format(k, ans))"
   ]
  },
  {
   "cell_type": "code",
   "execution_count": 2,
   "metadata": {},
   "outputs": [
    {
     "name": "stdout",
     "output_type": "stream",
     "text": [
      "p = 7 : [1, 1, 1, 1, 1, 1]\n",
      "p = 11 : [1, 1, 1, 1, 1, 1, 1, 1, 1, 1]\n",
      "p = 17 : [1, 1, 1, 1, 1, 1, 1, 1, 1, 1, 1, 1, 1, 1, 1, 1]\n",
      "p = 31 : [1, 1, 1, 1, 1, 1, 1, 1, 1, 1, 1, 1, 1, 1, 1, 1, 1, 1, 1, 1, 1, 1, 1, 1, 1, 1, 1, 1, 1, 1]\n"
     ]
    }
   ],
   "source": [
    "# 練習問題7\n",
    "\n",
    "ps = [7, 11, 17, 31]\n",
    "for p in ps:\n",
    "    s = []\n",
    "    for elem in range(1, p):\n",
    "        s.append(pow(elem, (p - 1), p))\n",
    "    print(\"p = {} : {}\".format(p, s))"
   ]
  },
  {
   "cell_type": "code",
   "execution_count": 3,
   "metadata": {},
   "outputs": [
    {
     "name": "stdout",
     "output_type": "stream",
     "text": [
      "pair : res\n",
      "\n",
      "(192, 105) : True\n",
      "(17, 56) : True\n",
      "(200, 119) : False\n",
      "(1, 193) : True\n",
      "(42, 99) : False\n"
     ]
    }
   ],
   "source": [
    "# 3章練習問題 1\n",
    "\n",
    "from ecc import FieldElement\n",
    "\n",
    "PRIME = 223\n",
    "\n",
    "def on_the_secp256k1(pair):\n",
    "    x = FieldElement(pair[0], PRIME)\n",
    "    y = FieldElement(pair[1], PRIME)\n",
    "    a = FieldElement(0, PRIME)\n",
    "    b = FieldElement(7, PRIME)\n",
    "\n",
    "    if y ** 2 == x ** 3 + a * x + b:\n",
    "        return True\n",
    "    else:\n",
    "        return False\n",
    "\n",
    "pairs = [(192, 105), (17, 56), (200, 119), (1, 193), (42, 99)]\n",
    "print(\"pair : res\\n\")\n",
    "for pair in pairs:\n",
    "    ans = on_the_secp256k1(pair)\n",
    "    print(\"{} : {}\".format(pair, ans))\n"
   ]
  },
  {
   "cell_type": "code",
   "execution_count": 4,
   "metadata": {},
   "outputs": [
    {
     "name": "stdout",
     "output_type": "stream",
     "text": [
      "\n",
      "Q1's res\n",
      "Point(FieldElement_223(220), FieldElement_223(181))_FieldElement_223(0)_FieldElement_223(7)\n",
      "\n",
      "Q2's res\n",
      "Point(FieldElement_223(215), FieldElement_223(68))_FieldElement_223(0)_FieldElement_223(7)\n",
      "\n",
      "Q3's res\n",
      "Point(FieldElement_223(47), FieldElement_223(71))_FieldElement_223(0)_FieldElement_223(7)\n"
     ]
    }
   ],
   "source": [
    "# 3章練習問題3\n",
    "\n",
    "from ecc import FieldElement, Point\n",
    "\n",
    "PRIME = 223\n",
    "a = FieldElement(0, PRIME)\n",
    "b = FieldElement(7, PRIME)\n",
    "\n",
    "qs = [\n",
    "    ((170, 142), (60, 139)),\n",
    "    ((47, 71), (17, 56)),\n",
    "    ((143, 98), (76, 66)),\n",
    "]\n",
    "\n",
    "for i, q in enumerate(qs):\n",
    "    x1 = FieldElement(q[0][0], PRIME)\n",
    "    y1 = FieldElement(q[0][1], PRIME)\n",
    "    p1 = Point(x1, y1, a, b)\n",
    "\n",
    "    x2 = FieldElement(q[1][0], PRIME)\n",
    "    y2 = FieldElement(q[1][1], PRIME)\n",
    "    p2 = Point(x2, y2, a, b)\n",
    "\n",
    "    print(\"\\nQ{}'s res\".format(i + 1))\n",
    "    print(p1 + p2)"
   ]
  },
  {
   "cell_type": "code",
   "execution_count": 5,
   "metadata": {},
   "outputs": [
    {
     "name": "stdout",
     "output_type": "stream",
     "text": [
      "\n",
      "Q0's res\n",
      "Point(FieldElement_223(49), FieldElement_223(71))_FieldElement_223(0)_FieldElement_223(7)\n",
      "\n",
      "Q1's res\n",
      "Point(FieldElement_223(64), FieldElement_223(168))_FieldElement_223(0)_FieldElement_223(7)\n",
      "\n",
      "Q2's res\n",
      "Point(FieldElement_223(36), FieldElement_223(111))_FieldElement_223(0)_FieldElement_223(7)\n",
      "\n",
      "Q3's res\n",
      "Point(FieldElement_223(194), FieldElement_223(51))_FieldElement_223(0)_FieldElement_223(7)\n",
      "\n",
      "Q4's res\n",
      "Point(FieldElement_223(116), FieldElement_223(55))_FieldElement_223(0)_FieldElement_223(7)\n",
      "\n",
      "Q5's res\n",
      "Point(None, None)_FieldElement_223(0)_FieldElement_223(7)\n"
     ]
    }
   ],
   "source": [
    "# 3章練習問題4\n",
    "\n",
    "from ecc import FieldElement, Point\n",
    "\n",
    "PRIME = 223\n",
    "a = FieldElement(0, PRIME)\n",
    "b = FieldElement(7, PRIME)\n",
    "\n",
    "qs = [\n",
    "    (2, (192, 105)),\n",
    "    (2, (143, 98)),\n",
    "    (2, (47, 71)),\n",
    "    (4, (47, 71)),\n",
    "    (8, (47, 71)),\n",
    "    (21, (47, 71)),\n",
    "]\n",
    "\n",
    "for i, q in enumerate(qs):\n",
    "    scalar = q[0]\n",
    "    x = FieldElement(q[1][0], PRIME)\n",
    "    y = FieldElement(q[1][1], PRIME)\n",
    "    p = Point(x, y, a, b)\n",
    "\n",
    "    ans = p\n",
    "    for _ in range(scalar - 1):\n",
    "        ans += p\n",
    "\n",
    "    print(\"\\nQ{}'s res\".format(i))\n",
    "    print(ans)"
   ]
  },
  {
   "cell_type": "code",
   "execution_count": 2,
   "metadata": {},
   "outputs": [
    {
     "data": {
      "text/plain": [
       "'fffffffffffffffffffffffffffffffebaaedce6af48a03bbfd25e8cd0364141'"
      ]
     },
     "execution_count": 2,
     "metadata": {},
     "output_type": "execute_result"
    }
   ],
   "source": [
    "a = \"FFFFFFFFFFFFFFFFFFFFFFFFFFFFFFFEBAAEDCE6AF48A03BBFD25E8CD0364141\"\n",
    "a.lower()"
   ]
  },
  {
   "cell_type": "code",
   "execution_count": null,
   "metadata": {},
   "outputs": [],
   "source": []
  }
 ],
 "metadata": {
  "kernelspec": {
   "display_name": "Python 3",
   "language": "python",
   "name": "python3"
  },
  "language_info": {
   "codemirror_mode": {
    "name": "ipython",
    "version": 3
   },
   "file_extension": ".py",
   "mimetype": "text/x-python",
   "name": "python",
   "nbconvert_exporter": "python",
   "pygments_lexer": "ipython3",
   "version": "3.8.10"
  },
  "orig_nbformat": 4
 },
 "nbformat": 4,
 "nbformat_minor": 2
}
