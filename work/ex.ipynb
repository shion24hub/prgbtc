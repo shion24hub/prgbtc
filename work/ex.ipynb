{
 "cells": [
  {
   "cell_type": "code",
   "execution_count": 1,
   "metadata": {},
   "outputs": [
    {
     "name": "stdout",
     "output_type": "stream",
     "text": [
      "k = 1 : {0, 1, 2, 3, 4, 5, 6, 7, 8, 9, 10, 11, 12, 13, 14, 15, 16, 17, 18}\n",
      "k = 3 : {0, 1, 2, 3, 4, 5, 6, 7, 8, 9, 10, 11, 12, 13, 14, 15, 16, 17, 18}\n",
      "k = 7 : {0, 1, 2, 3, 4, 5, 6, 7, 8, 9, 10, 11, 12, 13, 14, 15, 16, 17, 18}\n",
      "k = 13 : {0, 1, 2, 3, 4, 5, 6, 7, 8, 9, 10, 11, 12, 13, 14, 15, 16, 17, 18}\n",
      "k = 18 : {0, 1, 2, 3, 4, 5, 6, 7, 8, 9, 10, 11, 12, 13, 14, 15, 16, 17, 18}\n"
     ]
    }
   ],
   "source": [
    "# F_19上\n",
    "prime = 19\n",
    "ks = [1, 3, 7, 13, 18]\n",
    "for k in ks:\n",
    "    ans = []\n",
    "    for i in range(prime):\n",
    "        ans.append((k * i) % prime)\n",
    "    ans = set(ans)\n",
    "    print(\"k = {} : {}\".format(k, ans))"
   ]
  },
  {
   "cell_type": "code",
   "execution_count": 2,
   "metadata": {},
   "outputs": [
    {
     "name": "stdout",
     "output_type": "stream",
     "text": [
      "p = 7 : [1, 1, 1, 1, 1, 1]\n",
      "p = 11 : [1, 1, 1, 1, 1, 1, 1, 1, 1, 1]\n",
      "p = 17 : [1, 1, 1, 1, 1, 1, 1, 1, 1, 1, 1, 1, 1, 1, 1, 1]\n",
      "p = 31 : [1, 1, 1, 1, 1, 1, 1, 1, 1, 1, 1, 1, 1, 1, 1, 1, 1, 1, 1, 1, 1, 1, 1, 1, 1, 1, 1, 1, 1, 1]\n"
     ]
    }
   ],
   "source": [
    "# 練習問題7\n",
    "\n",
    "ps = [7, 11, 17, 31]\n",
    "for p in ps:\n",
    "    s = []\n",
    "    for elem in range(1, p):\n",
    "        s.append(pow(elem, (p - 1), p))\n",
    "    print(\"p = {} : {}\".format(p, s))"
   ]
  },
  {
   "cell_type": "code",
   "execution_count": 3,
   "metadata": {},
   "outputs": [
    {
     "name": "stdout",
     "output_type": "stream",
     "text": [
      "pair : res\n",
      "\n",
      "(192, 105) : True\n",
      "(17, 56) : True\n",
      "(200, 119) : False\n",
      "(1, 193) : True\n",
      "(42, 99) : False\n"
     ]
    }
   ],
   "source": [
    "# 3章練習問題 1\n",
    "\n",
    "from ecc import FieldElement\n",
    "\n",
    "PRIME = 223\n",
    "\n",
    "def on_the_secp256k1(pair):\n",
    "    x = FieldElement(pair[0], PRIME)\n",
    "    y = FieldElement(pair[1], PRIME)\n",
    "    a = FieldElement(0, PRIME)\n",
    "    b = FieldElement(7, PRIME)\n",
    "\n",
    "    if y ** 2 == x ** 3 + a * x + b:\n",
    "        return True\n",
    "    else:\n",
    "        return False\n",
    "\n",
    "pairs = [(192, 105), (17, 56), (200, 119), (1, 193), (42, 99)]\n",
    "print(\"pair : res\\n\")\n",
    "for pair in pairs:\n",
    "    ans = on_the_secp256k1(pair)\n",
    "    print(\"{} : {}\".format(pair, ans))\n"
   ]
  },
  {
   "cell_type": "code",
   "execution_count": 4,
   "metadata": {},
   "outputs": [
    {
     "name": "stdout",
     "output_type": "stream",
     "text": [
      "\n",
      "Q1's res\n",
      "Point(220,181)_0_7 FieldElement(223)\n",
      "\n",
      "Q2's res\n",
      "Point(215,68)_0_7 FieldElement(223)\n",
      "\n",
      "Q3's res\n",
      "Point(47,71)_0_7 FieldElement(223)\n"
     ]
    }
   ],
   "source": [
    "# 3章練習問題3\n",
    "\n",
    "from ecc import FieldElement, Point\n",
    "\n",
    "PRIME = 223\n",
    "a = FieldElement(0, PRIME)\n",
    "b = FieldElement(7, PRIME)\n",
    "\n",
    "qs = [\n",
    "    ((170, 142), (60, 139)),\n",
    "    ((47, 71), (17, 56)),\n",
    "    ((143, 98), (76, 66)),\n",
    "]\n",
    "\n",
    "for i, q in enumerate(qs):\n",
    "    x1 = FieldElement(q[0][0], PRIME)\n",
    "    y1 = FieldElement(q[0][1], PRIME)\n",
    "    p1 = Point(x1, y1, a, b)\n",
    "\n",
    "    x2 = FieldElement(q[1][0], PRIME)\n",
    "    y2 = FieldElement(q[1][1], PRIME)\n",
    "    p2 = Point(x2, y2, a, b)\n",
    "\n",
    "    print(\"\\nQ{}'s res\".format(i + 1))\n",
    "    print(p1 + p2)"
   ]
  },
  {
   "cell_type": "code",
   "execution_count": 5,
   "metadata": {},
   "outputs": [
    {
     "name": "stdout",
     "output_type": "stream",
     "text": [
      "\n",
      "Q0's res\n",
      "Point(49,71)_0_7 FieldElement(223)\n",
      "\n",
      "Q1's res\n",
      "Point(64,168)_0_7 FieldElement(223)\n",
      "\n",
      "Q2's res\n",
      "Point(36,111)_0_7 FieldElement(223)\n",
      "\n",
      "Q3's res\n",
      "Point(194,51)_0_7 FieldElement(223)\n",
      "\n",
      "Q4's res\n",
      "Point(116,55)_0_7 FieldElement(223)\n",
      "\n",
      "Q5's res\n",
      "Point(infinity)\n"
     ]
    }
   ],
   "source": [
    "# 3章練習問題4\n",
    "\n",
    "from ecc import FieldElement, Point\n",
    "\n",
    "PRIME = 223\n",
    "a = FieldElement(0, PRIME)\n",
    "b = FieldElement(7, PRIME)\n",
    "\n",
    "qs = [\n",
    "    (2, (192, 105)),\n",
    "    (2, (143, 98)),\n",
    "    (2, (47, 71)),\n",
    "    (4, (47, 71)),\n",
    "    (8, (47, 71)),\n",
    "    (21, (47, 71)),\n",
    "]\n",
    "\n",
    "for i, q in enumerate(qs):\n",
    "    scalar = q[0]\n",
    "    x = FieldElement(q[1][0], PRIME)\n",
    "    y = FieldElement(q[1][1], PRIME)\n",
    "    p = Point(x, y, a, b)\n",
    "\n",
    "    ans = p\n",
    "    for _ in range(scalar - 1):\n",
    "        ans += p\n",
    "\n",
    "    print(\"\\nQ{}'s res\".format(i))\n",
    "    print(ans)"
   ]
  },
  {
   "cell_type": "code",
   "execution_count": 6,
   "metadata": {},
   "outputs": [
    {
     "name": "stdout",
     "output_type": "stream",
     "text": [
      "sig1\n",
      "OK\n",
      "sig2\n",
      "OK\n"
     ]
    }
   ],
   "source": [
    "# 第3章練習問題6\n",
    "\n",
    "from ecc import S256Point, GX, GY, N\n",
    "\n",
    "G = S256Point(GX, GY)\n",
    "P = S256Point(\n",
    "    0x887387e452b8eacc4acfde10d9aaf7f6d9a0f975aabb10d006e4da568744d06c,\n",
    "    0x61de6d95231cd89026e286df3b6ae4a894a3378e393e93a0f45b666329a0ae34\n",
    ")\n",
    "\n",
    "def gen_uv(z, r, s):\n",
    "    s_inv = pow(s, N - 2, N)\n",
    "    u = z * s_inv % N\n",
    "    v = r * s_inv % N\n",
    "\n",
    "    return u, v\n",
    "\n",
    "def verify(u, v, r):\n",
    "    if (u * G + v * P).x.num == r:\n",
    "        return 'OK'\n",
    "    else:\n",
    "        return 'NG'\n",
    "\n",
    "# sig1\n",
    "z = 0xec208baa0fc1c19f708a9ca96fdeff3ac3f230bb4a7ba4aede4942ad003c0f60\n",
    "r = 0xac8d1c87e51d0d441be8b3dd5b05c8795b48875dffe00b7ffcfac23010d3a395\n",
    "s = 0x68342ceff8935ededd102dd876ffd6ba72d6a427a3edb13d26eb0781cb423c4\n",
    "\n",
    "u, v = gen_uv(z, r, s)\n",
    "\n",
    "print('sig1')\n",
    "print(verify(u, v, r))\n",
    "\n",
    "# sig2\n",
    "z = 0x7c076ff316692a3d7eb3c3bb0f8b1488cf72e1afcd929e29307032997a838a3d\n",
    "r = 0xeff69ef2b1bd93a66ed5219add4fb51e11a840f404876325a1e8ffe0529a2c\n",
    "s = 0xc7207fee197d27c618aea621406f6bf5ef6fca38681d82b2f06fddbdce6feab6\n",
    "\n",
    "u, v = gen_uv(z, r, s)\n",
    "\n",
    "print('sig2')\n",
    "print(verify(u, v, r))\n"
   ]
  },
  {
   "cell_type": "code",
   "execution_count": 7,
   "metadata": {},
   "outputs": [
    {
     "name": "stdout",
     "output_type": "stream",
     "text": [
      "公開鍵 : Point(108607064596551879580190606910245687803607295064141551927605737287325610911759,6661302038839728943522144359728938428925407345457796456954441906546235843221)_0_7 FieldElement(115792089237316195423570985008687907853269984665640564039457584007908834671663)\n",
      "署名ハッシュ : 0x969f6056aa26f7d2795fd013fe88868d09c9f6aed96965016e1936ae47060d48\n",
      "r : 0x2b698a0f0a4041b77e63488ad48c23e8e8838dd1fb7520408b121697b782ef22\n",
      "s : 0x1dbc63bfef4416705e602a7b564161167076d8b20990a0f26f316cff2cb0bc1a\n"
     ]
    }
   ],
   "source": [
    "# 第3章練習問題7\n",
    "\n",
    "from ecc import hash256, G, N\n",
    "\n",
    "e = 12345\n",
    "z = int.from_bytes(hash256(b\"Programming Bitcoin!\"), \"big\") # ビッグエンディアン\n",
    "k = 1234567890\n",
    "r = (k * G).x.num\n",
    "\n",
    "k_inv = pow(k, N - 2, N)\n",
    "s = (z + r * e) * k_inv % N\n",
    "P = e * G # 公開鍵\n",
    "\n",
    "print(\"公開鍵 : {}\".format(P))\n",
    "print(\"署名ハッシュ : {}\".format(hex(z)))\n",
    "print(\"r : {}\".format(hex(r)))\n",
    "print(\"s : {}\".format(hex(s)))"
   ]
  },
  {
   "cell_type": "code",
   "execution_count": 8,
   "metadata": {},
   "outputs": [
    {
     "name": "stdout",
     "output_type": "stream",
     "text": [
      "02ffe558e388852f0120e46af2d1b370f85854a8eb0841811ece0e3e03d282d57c\n",
      "02027f3da1918455e03c46f659266a1bb5204e959db7364d2f473bdf8f0a13cc9d\n",
      "03d90cd625ee87dd38656dd95cf79f65f60f7273b67d3096e68bd81e4f5342691f\n"
     ]
    }
   ],
   "source": [
    "# 第4章練習問題1\n",
    "\n",
    "from ecc import PrivateKey\n",
    "\n",
    "e1 = 5000\n",
    "e2 = 2018 ** 5\n",
    "e3 = 0xdeadbeef12345\n",
    "\n",
    "prvk1 = PrivateKey(e1)\n",
    "pblk1 = prvk1.point # 公開鍵\n",
    "print(pblk1.sec().hex())\n",
    "\n",
    "\n",
    "print(PrivateKey(e2).point.sec().hex())\n",
    "\n",
    "print(PrivateKey(e3).point.sec().hex())\n"
   ]
  },
  {
   "cell_type": "code",
   "execution_count": 9,
   "metadata": {},
   "outputs": [
    {
     "name": "stdout",
     "output_type": "stream",
     "text": [
      "0357a4f368868a8a6d572991e484e664810ff14c05c0fa023275251151fe0e53d1\n",
      "02933ec2d2b111b92737ec12f1c5d20f3233a0ad21cd8b36d0bca7a0cfa5cb8701\n",
      "0296be5b1292f6c856b3c5654e886fc13511462059089cdf9c479623bfcbe77690\n"
     ]
    }
   ],
   "source": [
    "# 第4章練習問題2\n",
    "\n",
    "from ecc import PrivateKey\n",
    "\n",
    "e1 = 5001\n",
    "e2 = 2019 ** 5\n",
    "e3 = 0xdeadbeef54321\n",
    "\n",
    "private_key1 = PrivateKey(e1)\n",
    "public_key1 = private_key1.point\n",
    "print(public_key1.sec(is_compressed=True).hex())\n",
    "\n",
    "private_key2 = PrivateKey(e2)\n",
    "public_key2 = private_key2.point\n",
    "print(public_key2.sec(is_compressed=True).hex())\n",
    "\n",
    "private_key3 = PrivateKey(e3)\n",
    "public_key3 = private_key3.point\n",
    "print(public_key3.sec(is_compressed=True).hex())\n"
   ]
  },
  {
   "cell_type": "code",
   "execution_count": 10,
   "metadata": {},
   "outputs": [
    {
     "name": "stdout",
     "output_type": "stream",
     "text": [
      "元の公開鍵\n",
      "x : 39642660687733393743803404939124474257498991193290443562998887415199256433617\n",
      "y : 6072270216544748807788687511439485102570851088780061763414709691439283571821\n",
      "\n",
      "復元された公開鍵\n",
      "x : 39642660687733393743803404939124474257498991193290443562998887415199256433617\n",
      "y : 6072270216544748807788687511439485102570851088780061763414709691439283571821\n",
      "\n",
      "True\n",
      "True\n"
     ]
    }
   ],
   "source": [
    "# 自習(圧縮SECフォーマットを戻してみる)\n",
    "\n",
    "from ecc import S256Point\n",
    "\n",
    "e1 = 5001\n",
    "private_key = PrivateKey(e1)\n",
    "public_key = private_key.point\n",
    "\n",
    "print(\"元の公開鍵\")\n",
    "print(\"x : {}\".format(public_key.x.num))\n",
    "print(\"y : {}\".format(public_key.y.num))\n",
    "\n",
    "# 圧縮SECフォーマットでシリアライズ\n",
    "public_key_csec = public_key.sec(is_compressed=True)\n",
    "\n",
    "# parse\n",
    "public_key_parsed = S256Point.parse(public_key_csec)\n",
    "print(\"\\n復元された公開鍵\")\n",
    "print(\"x : {}\".format(public_key_parsed.x.num))\n",
    "print(\"y : {}\".format(public_key_parsed.y.num))\n",
    "\n",
    "print()\n",
    "print(public_key.x.num == public_key_parsed.x.num)\n",
    "print(public_key.y.num == public_key_parsed.y.num)"
   ]
  },
  {
   "cell_type": "code",
   "execution_count": 11,
   "metadata": {},
   "outputs": [
    {
     "data": {
      "text/plain": [
       "'3045022037206a0610995c58074999cb9767b87af4c4978db68c06e8e6e81d282047a7c60221008ca63759c1157ebeaec0d03cecca119fc9a75bf8e6d0fa65c841c8e2738cdaec'"
      ]
     },
     "execution_count": 11,
     "metadata": {},
     "output_type": "execute_result"
    }
   ],
   "source": [
    "# 第4章練習問題3\n",
    "\n",
    "from ecc import Signature\n",
    "\n",
    "r = 0x37206a0610995c58074999cb9767b87af4c4978db68c06e8e6e81d282047a7c6\n",
    "s = 0x8ca63759c1157ebeaec0d03cecca119fc9a75bf8e6d0fa65c841c8e2738cdaec\n",
    "\n",
    "sig = Signature(r=r, s=s)\n",
    "sig.der().hex()"
   ]
  },
  {
   "cell_type": "code",
   "execution_count": 18,
   "metadata": {},
   "outputs": [
    {
     "name": "stdout",
     "output_type": "stream",
     "text": [
      "9MA8fRQrT4u8Zj8ZRd6MAiiyaxb2Y1CMpvVkHQu5hVM6\n",
      "4fE3H2E6XMp4SsxtwinF7w9a34ooUrwWe4WsW1458Pd\n",
      "EQJsjkd6JaGwxrjEhfeqPenqHwrBmPQZjJGNSCHBkcF7\n"
     ]
    }
   ],
   "source": [
    "# 第4章練習問題4\n",
    "\n",
    "from ecc import encode_base58\n",
    "\n",
    "q1 = \"7c076ff316692a3d7eb3c3bb0f8b1488cf72e1afcd929e29307032997a838a3d\"\n",
    "q2 = \"eff69ef2b1bd93a66ed5219add4fb51e11a840f404876325a1e8ffe0529a2c\"\n",
    "q3 = \"c7207fee197d27c618aea621406f6bf5ef6fca38681d82b2f06fddbdce6feab6\"\n",
    "\n",
    "h1 = bytes.fromhex(q1)\n",
    "print(encode_base58(h1))\n",
    "\n",
    "h2 = bytes.fromhex(q2)\n",
    "print(encode_base58(h2))\n",
    "\n",
    "h3 = bytes.fromhex(q3)\n",
    "print(encode_base58(h3))"
   ]
  },
  {
   "cell_type": "code",
   "execution_count": 5,
   "metadata": {},
   "outputs": [
    {
     "name": "stdout",
     "output_type": "stream",
     "text": [
      "mmTPbXQFxboEtNRkwfh6K51jvdtHLxGeMA\n",
      "mopVkxp8UhXqRYbCYJsbeE1h1fiF64jcoH\n",
      "1F1Pn2y6pDb68E5nYJJeba4TLg2U7B6KF1\n"
     ]
    }
   ],
   "source": [
    "# 第4章練習問題5\n",
    "\n",
    "from ecc import PrivateKey\n",
    "\n",
    "e1 = 5002 # テストネットで非圧縮SECを使用\n",
    "e2 = 2020 ** 5 # テストネットで圧縮SECを使用\n",
    "e3 = 0x12345deadbeef # メインネットで圧縮SECを使用\n",
    "\n",
    "private_key1 = PrivateKey(e1)\n",
    "public_key1 = private_key1.point\n",
    "print(public_key1.address(compressed=False, testnet=True))\n",
    "\n",
    "private_key2 = PrivateKey(e2)\n",
    "public_key2 = private_key2.point\n",
    "print(public_key2.address(compressed=True, testnet=True))\n",
    "\n",
    "private_key3 = PrivateKey(e3)\n",
    "public_key3 = private_key3.point\n",
    "print(public_key3.address(compressed=True, testnet=False))\n"
   ]
  },
  {
   "cell_type": "code",
   "execution_count": 2,
   "metadata": {},
   "outputs": [
    {
     "name": "stdout",
     "output_type": "stream",
     "text": [
      "cMahea7zqjxrtgAbB7LSGbcQUr1uX1ojuat9jZodMN8rFTv2sfUK\n",
      "91avARGdfge8E4tZfYLoxeJ5sGBdNJQH4kvjpWAxgzczjbCwxic\n",
      "KwDiBf89QgGbjEhKnhXJuH7LrciVrZi3qYjgiuQJv1h8Ytr2S53a\n"
     ]
    }
   ],
   "source": [
    "# 第4章練習問題6\n",
    "\n",
    "from ecc import PrivateKey\n",
    "\n",
    "e1 = 5003 # テストネットで圧縮SECを使用\n",
    "e2 = 2021 ** 5 # テストネットで非圧縮SECを使用\n",
    "e3 = 0x54321deadbeef # メインネットで圧縮SECを使用\n",
    "\n",
    "private_key1 = PrivateKey(e1)\n",
    "print(private_key1.wif(compressed=True, testnet=True))\n",
    "\n",
    "private_key2 = PrivateKey(e2)\n",
    "print(private_key2.wif(compressed=False, testnet=True))\n",
    "\n",
    "private_key3 = PrivateKey(e3)\n",
    "print(private_key3.wif(compressed=True, testnet=False))"
   ]
  },
  {
   "cell_type": "code",
   "execution_count": 7,
   "metadata": {},
   "outputs": [],
   "source": [
    "# 第4章練習問題7\n",
    "\n",
    "def little_endian_to_int(b):\n",
    "    \"\"\"\n",
    "    バイトを受け取り、それをリトルエンディアンであると解釈して、整数を返す関数\n",
    "    \"\"\"\n",
    "    return int.from_bytes(b, \"little\")\n"
   ]
  },
  {
   "cell_type": "code",
   "execution_count": 9,
   "metadata": {},
   "outputs": [],
   "source": [
    "# 第4章練習問題8\n",
    "\n",
    "def int_to_little_endian(i, length):\n",
    "    \"\"\"\n",
    "    整数を受け取り、指定された長さのバイト列を返す関数\n",
    "    \"\"\"\n",
    "    return i.to_bytes(length, \"little\")\n"
   ]
  },
  {
   "cell_type": "code",
   "execution_count": null,
   "metadata": {},
   "outputs": [],
   "source": []
  }
 ],
 "metadata": {
  "kernelspec": {
   "display_name": "Python 3",
   "language": "python",
   "name": "python3"
  },
  "language_info": {
   "codemirror_mode": {
    "name": "ipython",
    "version": 3
   },
   "file_extension": ".py",
   "mimetype": "text/x-python",
   "name": "python",
   "nbconvert_exporter": "python",
   "pygments_lexer": "ipython3",
   "version": "3.11.3"
  },
  "orig_nbformat": 4
 },
 "nbformat": 4,
 "nbformat_minor": 2
}
