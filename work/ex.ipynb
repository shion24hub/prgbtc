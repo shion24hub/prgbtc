{
 "cells": [
  {
   "cell_type": "code",
   "execution_count": 1,
   "metadata": {},
   "outputs": [
    {
     "name": "stdout",
     "output_type": "stream",
     "text": [
      "k = 1 : {0, 1, 2, 3, 4, 5, 6, 7, 8, 9, 10, 11, 12, 13, 14, 15, 16, 17, 18}\n",
      "k = 3 : {0, 1, 2, 3, 4, 5, 6, 7, 8, 9, 10, 11, 12, 13, 14, 15, 16, 17, 18}\n",
      "k = 7 : {0, 1, 2, 3, 4, 5, 6, 7, 8, 9, 10, 11, 12, 13, 14, 15, 16, 17, 18}\n",
      "k = 13 : {0, 1, 2, 3, 4, 5, 6, 7, 8, 9, 10, 11, 12, 13, 14, 15, 16, 17, 18}\n",
      "k = 18 : {0, 1, 2, 3, 4, 5, 6, 7, 8, 9, 10, 11, 12, 13, 14, 15, 16, 17, 18}\n"
     ]
    }
   ],
   "source": [
    "# F_19上\n",
    "prime = 19\n",
    "ks = [1, 3, 7, 13, 18]\n",
    "for k in ks:\n",
    "    ans = []\n",
    "    for i in range(prime):\n",
    "        ans.append((k * i) % prime)\n",
    "    ans = set(ans)\n",
    "    print(\"k = {} : {}\".format(k, ans))"
   ]
  },
  {
   "cell_type": "code",
   "execution_count": 2,
   "metadata": {},
   "outputs": [
    {
     "name": "stdout",
     "output_type": "stream",
     "text": [
      "p = 7 : [1, 1, 1, 1, 1, 1]\n",
      "p = 11 : [1, 1, 1, 1, 1, 1, 1, 1, 1, 1]\n",
      "p = 17 : [1, 1, 1, 1, 1, 1, 1, 1, 1, 1, 1, 1, 1, 1, 1, 1]\n",
      "p = 31 : [1, 1, 1, 1, 1, 1, 1, 1, 1, 1, 1, 1, 1, 1, 1, 1, 1, 1, 1, 1, 1, 1, 1, 1, 1, 1, 1, 1, 1, 1]\n"
     ]
    }
   ],
   "source": [
    "# 練習問題7\n",
    "\n",
    "ps = [7, 11, 17, 31]\n",
    "for p in ps:\n",
    "    s = []\n",
    "    for elem in range(1, p):\n",
    "        s.append(pow(elem, (p - 1), p))\n",
    "    print(\"p = {} : {}\".format(p, s))"
   ]
  },
  {
   "cell_type": "code",
   "execution_count": 3,
   "metadata": {},
   "outputs": [
    {
     "name": "stdout",
     "output_type": "stream",
     "text": [
      "pair : res\n",
      "\n",
      "(192, 105) : True\n",
      "(17, 56) : True\n",
      "(200, 119) : False\n",
      "(1, 193) : True\n",
      "(42, 99) : False\n"
     ]
    }
   ],
   "source": [
    "# 3章練習問題 1\n",
    "\n",
    "from ecc import FieldElement\n",
    "\n",
    "PRIME = 223\n",
    "\n",
    "def on_the_secp256k1(pair):\n",
    "    x = FieldElement(pair[0], PRIME)\n",
    "    y = FieldElement(pair[1], PRIME)\n",
    "    a = FieldElement(0, PRIME)\n",
    "    b = FieldElement(7, PRIME)\n",
    "\n",
    "    if y ** 2 == x ** 3 + a * x + b:\n",
    "        return True\n",
    "    else:\n",
    "        return False\n",
    "\n",
    "pairs = [(192, 105), (17, 56), (200, 119), (1, 193), (42, 99)]\n",
    "print(\"pair : res\\n\")\n",
    "for pair in pairs:\n",
    "    ans = on_the_secp256k1(pair)\n",
    "    print(\"{} : {}\".format(pair, ans))\n"
   ]
  },
  {
   "cell_type": "code",
   "execution_count": 4,
   "metadata": {},
   "outputs": [
    {
     "name": "stdout",
     "output_type": "stream",
     "text": [
      "\n",
      "Q1's res\n",
      "Point(FieldElement_223(220), FieldElement_223(181))_FieldElement_223(0)_FieldElement_223(7)\n",
      "\n",
      "Q2's res\n",
      "Point(FieldElement_223(215), FieldElement_223(68))_FieldElement_223(0)_FieldElement_223(7)\n",
      "\n",
      "Q3's res\n",
      "Point(FieldElement_223(47), FieldElement_223(71))_FieldElement_223(0)_FieldElement_223(7)\n"
     ]
    }
   ],
   "source": [
    "# 3章練習問題3\n",
    "\n",
    "from ecc import FieldElement, Point\n",
    "\n",
    "PRIME = 223\n",
    "a = FieldElement(0, PRIME)\n",
    "b = FieldElement(7, PRIME)\n",
    "\n",
    "qs = [\n",
    "    ((170, 142), (60, 139)),\n",
    "    ((47, 71), (17, 56)),\n",
    "    ((143, 98), (76, 66)),\n",
    "]\n",
    "\n",
    "for i, q in enumerate(qs):\n",
    "    x1 = FieldElement(q[0][0], PRIME)\n",
    "    y1 = FieldElement(q[0][1], PRIME)\n",
    "    p1 = Point(x1, y1, a, b)\n",
    "\n",
    "    x2 = FieldElement(q[1][0], PRIME)\n",
    "    y2 = FieldElement(q[1][1], PRIME)\n",
    "    p2 = Point(x2, y2, a, b)\n",
    "\n",
    "    print(\"\\nQ{}'s res\".format(i + 1))\n",
    "    print(p1 + p2)"
   ]
  },
  {
   "cell_type": "code",
   "execution_count": 5,
   "metadata": {},
   "outputs": [
    {
     "name": "stdout",
     "output_type": "stream",
     "text": [
      "\n",
      "Q0's res\n",
      "Point(FieldElement_223(49), FieldElement_223(71))_FieldElement_223(0)_FieldElement_223(7)\n",
      "\n",
      "Q1's res\n",
      "Point(FieldElement_223(64), FieldElement_223(168))_FieldElement_223(0)_FieldElement_223(7)\n",
      "\n",
      "Q2's res\n",
      "Point(FieldElement_223(36), FieldElement_223(111))_FieldElement_223(0)_FieldElement_223(7)\n",
      "\n",
      "Q3's res\n",
      "Point(FieldElement_223(194), FieldElement_223(51))_FieldElement_223(0)_FieldElement_223(7)\n",
      "\n",
      "Q4's res\n",
      "Point(FieldElement_223(116), FieldElement_223(55))_FieldElement_223(0)_FieldElement_223(7)\n",
      "\n",
      "Q5's res\n",
      "Point(None, None)_FieldElement_223(0)_FieldElement_223(7)\n"
     ]
    }
   ],
   "source": [
    "# 3章練習問題4\n",
    "\n",
    "from ecc import FieldElement, Point\n",
    "\n",
    "PRIME = 223\n",
    "a = FieldElement(0, PRIME)\n",
    "b = FieldElement(7, PRIME)\n",
    "\n",
    "qs = [\n",
    "    (2, (192, 105)),\n",
    "    (2, (143, 98)),\n",
    "    (2, (47, 71)),\n",
    "    (4, (47, 71)),\n",
    "    (8, (47, 71)),\n",
    "    (21, (47, 71)),\n",
    "]\n",
    "\n",
    "for i, q in enumerate(qs):\n",
    "    scalar = q[0]\n",
    "    x = FieldElement(q[1][0], PRIME)\n",
    "    y = FieldElement(q[1][1], PRIME)\n",
    "    p = Point(x, y, a, b)\n",
    "\n",
    "    ans = p\n",
    "    for _ in range(scalar - 1):\n",
    "        ans += p\n",
    "\n",
    "    print(\"\\nQ{}'s res\".format(i))\n",
    "    print(ans)"
   ]
  },
  {
   "cell_type": "code",
   "execution_count": 3,
   "metadata": {},
   "outputs": [
    {
     "name": "stdout",
     "output_type": "stream",
     "text": [
      "sig1\n",
      "OK\n",
      "sig2\n",
      "OK\n"
     ]
    }
   ],
   "source": [
    "# 第3章練習問題6\n",
    "\n",
    "from ecc import S256Point, GX, GY, N\n",
    "\n",
    "G = S256Point(GX, GY)\n",
    "P = S256Point(\n",
    "    0x887387e452b8eacc4acfde10d9aaf7f6d9a0f975aabb10d006e4da568744d06c,\n",
    "    0x61de6d95231cd89026e286df3b6ae4a894a3378e393e93a0f45b666329a0ae34\n",
    ")\n",
    "\n",
    "def gen_uv(z, r, s):\n",
    "    s_inv = pow(s, N - 2, N)\n",
    "    u = z * s_inv % N\n",
    "    v = r * s_inv % N\n",
    "\n",
    "    return u, v\n",
    "\n",
    "def verify(u, v, r):\n",
    "    if (u * G + v * P).x.num == r:\n",
    "        return 'OK'\n",
    "    else:\n",
    "        return 'NG'\n",
    "\n",
    "# sig1\n",
    "z = 0xec208baa0fc1c19f708a9ca96fdeff3ac3f230bb4a7ba4aede4942ad003c0f60\n",
    "r = 0xac8d1c87e51d0d441be8b3dd5b05c8795b48875dffe00b7ffcfac23010d3a395\n",
    "s = 0x68342ceff8935ededd102dd876ffd6ba72d6a427a3edb13d26eb0781cb423c4\n",
    "\n",
    "u, v = gen_uv(z, r, s)\n",
    "\n",
    "print('sig1')\n",
    "print(verify(u, v, r))\n",
    "\n",
    "# sig2\n",
    "z = 0x7c076ff316692a3d7eb3c3bb0f8b1488cf72e1afcd929e29307032997a838a3d\n",
    "r = 0xeff69ef2b1bd93a66ed5219add4fb51e11a840f404876325a1e8ffe0529a2c\n",
    "s = 0xc7207fee197d27c618aea621406f6bf5ef6fca38681d82b2f06fddbdce6feab6\n",
    "\n",
    "u, v = gen_uv(z, r, s)\n",
    "\n",
    "print('sig2')\n",
    "print(verify(u, v, r))\n"
   ]
  },
  {
   "cell_type": "code",
   "execution_count": null,
   "metadata": {},
   "outputs": [],
   "source": [
    "# 第3章練習問題7\n",
    "\n",
    "from ecc import S256Point, hash256, G, N\n",
    "\n",
    "e = 12345\n",
    "z = int.from_bytes(hash256(\"Programming Bitcoin!\"), \"big\") # ビッグエンディアン\n",
    "k = 1234567890\n",
    "r = (k * G).x.num\n",
    "\n",
    "k_inv = pow(k, N - 2, N)\n",
    "s = (z + r * e) * k_inv % N\n",
    "P = e * G # 公開鍵\n",
    "\n",
    "print(\"公開鍵 : {}\".format(hex(P)))\n",
    "print(hex(z))"
   ]
  }
 ],
 "metadata": {
  "kernelspec": {
   "display_name": "Python 3",
   "language": "python",
   "name": "python3"
  },
  "language_info": {
   "codemirror_mode": {
    "name": "ipython",
    "version": 3
   },
   "file_extension": ".py",
   "mimetype": "text/x-python",
   "name": "python",
   "nbconvert_exporter": "python",
   "pygments_lexer": "ipython3",
   "version": "3.11.3"
  },
  "orig_nbformat": 4
 },
 "nbformat": 4,
 "nbformat_minor": 2
}
